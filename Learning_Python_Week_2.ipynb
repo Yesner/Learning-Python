{
  "nbformat": 4,
  "nbformat_minor": 0,
  "metadata": {
    "colab": {
      "provenance": [],
      "authorship_tag": "ABX9TyNw4b4h2/rSGfUevhSaCNsU",
      "include_colab_link": true
    },
    "kernelspec": {
      "name": "python3",
      "display_name": "Python 3"
    },
    "language_info": {
      "name": "python"
    }
  },
  "cells": [
    {
      "cell_type": "markdown",
      "metadata": {
        "id": "view-in-github",
        "colab_type": "text"
      },
      "source": [
        "<a href=\"https://colab.research.google.com/github/Yesner/Learning-Python/blob/master/Learning_Python_Week_2.ipynb\" target=\"_parent\"><img src=\"https://colab.research.google.com/assets/colab-badge.svg\" alt=\"Open In Colab\"/></a>"
      ]
    },
    {
      "cell_type": "markdown",
      "source": [
        "**Variables Annotated by Type**\n",
        "\n",
        "Type annotations are optional in Python. They can be very helpful, though, because they make code easier to read. Annotations make the variable types clear to those reading the code. They can also help you catch errors during compilation. In the example below, we are using the typing module to annotate the different types of variables."
      ],
      "metadata": {
        "id": "Uu1EubgHdnzJ"
      }
    },
    {
      "cell_type": "code",
      "execution_count": 1,
      "metadata": {
        "id": "zWnng6rLdafY"
      },
      "outputs": [],
      "source": [
        "import typing\n",
        "# Define a variable of type str\n",
        "z: str = \"Hello, world!\"\n",
        "# Define a variable of type int\n",
        "x: int = 10\n",
        "# Define a variable of type float\n",
        "y: float = 1.23\n",
        "# Define a variable of type list\n",
        "list_of_numbers: typing.List[int] = [1, 2, 3]\n",
        "# Define a variable of type tuple\n",
        "tuple_of_numbers: typing.Tuple[int, int, int] = (1, 2, 3)\n",
        "# Define a variable of type dict\n",
        "dictionary: typing.Dict[str, int] = {\"key1\": 1, \"key2\": 2}\n",
        "# Define a variable of type set\n",
        "set_of_numbers: typing.Set[int] = {1, 2, 3}"
      ]
    },
    {
      "cell_type": "markdown",
      "source": [
        "**Coding skills**\n",
        "\n",
        "**Skill Group 1**\n",
        "Use variables to store values\n",
        "\n",
        "Use basic arithmetic operators with variables to create expressions\n",
        "\n",
        "Use explicit conversion to change a data type from float to string"
      ],
      "metadata": {
        "id": "iVNDNhttdzlF"
      }
    },
    {
      "cell_type": "code",
      "source": [
        "# The following lines assign the variable to the left of the =\n",
        "# assignment operator with the values and arithmetic expressions\n",
        "# on the right side of the = assignment operator.\n",
        "hotel_room = 100\n",
        "tax = hotel_room * 0.08\n",
        "total = hotel_room + tax\n",
        "room_guests = 4\n",
        "share_per_person = total/room_guests\n",
        "\n",
        "\n",
        "# This line outputs the result of the final calculation stored\n",
        "# in the variable \"share_per_person\"\n",
        "print(\"Each person needs to pay: \" + str(share_per_person)) # change a data type"
      ],
      "metadata": {
        "colab": {
          "base_uri": "https://localhost:8080/"
        },
        "id": "12309QIyd5i9",
        "outputId": "c9bd5347-36f3-4004-9d09-4266274890be"
      },
      "execution_count": 2,
      "outputs": [
        {
          "output_type": "stream",
          "name": "stdout",
          "text": [
            "Each person needs to pay: 27.0\n"
          ]
        }
      ]
    },
    {
      "cell_type": "markdown",
      "source": [
        "**Skill Group 2**\n",
        "\n",
        "Output multiple string variables on a single line to form a sentence\n",
        "\n",
        "Use the plus (+) connector or a comma to connect strings in a print() function\n",
        "\n",
        "Create spaces between variables in  a print() function"
      ],
      "metadata": {
        "id": "RE9QbquWd9_5"
      }
    },
    {
      "cell_type": "code",
      "source": [
        "# The following 5 lines assign strings to a list of variables.\n",
        "salutation = \"Dr.\"\n",
        "first_name = \"Prisha\"\n",
        "middle_name = \"Jai\"\n",
        "last_name = \"Agarwal\"\n",
        "suffix = \"Ph.D.\"\n",
        "\n",
        "print(salutation + \" \" + first_name + \" \" + middle_name + \" \" + last_name + \", \" + suffix)\n",
        "# The comma as a string \", \" adds the conventional use of a comma plus a\n",
        "# space to separate the last name from the suffix.\n",
        "\n",
        "# Alternatively, you could use commas in place of the + connector:\n",
        "print(salutation, first_name, middle_name, last_name,\",\", suffix)\n",
        "# However, you will find that this produces a space before a comma within a string."
      ],
      "metadata": {
        "colab": {
          "base_uri": "https://localhost:8080/"
        },
        "id": "7FVVPJ64eRwI",
        "outputId": "5587a6a9-e42b-4276-843e-421d42fce885"
      },
      "execution_count": 3,
      "outputs": [
        {
          "output_type": "stream",
          "name": "stdout",
          "text": [
            "Dr. Prisha Jai Agarwal, Ph.D.\n",
            "Dr. Prisha Jai Agarwal , Ph.D.\n"
          ]
        }
      ]
    },
    {
      "cell_type": "markdown",
      "source": [
        "**Skill Group 3**\n",
        "\n",
        "Resolve TypeError caused by a data type mismatch issue\n",
        "\n",
        "Use an explicit conversion function"
      ],
      "metadata": {
        "id": "6MggKG1VeU_p"
      }
    },
    {
      "cell_type": "code",
      "source": [
        "# The following code causes a type error between a string\n",
        "# and an integer:\n",
        "\n",
        "print(\"5 * 3 = \" + (5*3))\n",
        "\n",
        "\n",
        "# Resolution:\n",
        "# print(\"5 * 3 = \" + str(5*3))\n",
        "#\n",
        "# To avoid a type error between the string and the integer within the\n",
        "# print() function, you can make an explicit data type conversion by\n",
        "# using the str() function to convert the integer to a string."
      ],
      "metadata": {
        "colab": {
          "base_uri": "https://localhost:8080/",
          "height": 220
        },
        "id": "MGOikaz2eYWb",
        "outputId": "762234f9-bf2b-4eb0-ea6e-2964946569eb"
      },
      "execution_count": 5,
      "outputs": [
        {
          "output_type": "error",
          "ename": "TypeError",
          "evalue": "can only concatenate str (not \"int\") to str",
          "traceback": [
            "\u001b[0;31m---------------------------------------------------------------------------\u001b[0m",
            "\u001b[0;31mTypeError\u001b[0m                                 Traceback (most recent call last)",
            "\u001b[0;32m<ipython-input-5-4faf79e244ee>\u001b[0m in \u001b[0;36m<cell line: 4>\u001b[0;34m()\u001b[0m\n\u001b[1;32m      2\u001b[0m \u001b[0;31m# and an integer:\u001b[0m\u001b[0;34m\u001b[0m\u001b[0;34m\u001b[0m\u001b[0m\n\u001b[1;32m      3\u001b[0m \u001b[0;34m\u001b[0m\u001b[0m\n\u001b[0;32m----> 4\u001b[0;31m \u001b[0mprint\u001b[0m\u001b[0;34m(\u001b[0m\u001b[0;34m\"5 * 3 = \"\u001b[0m \u001b[0;34m+\u001b[0m \u001b[0;34m(\u001b[0m\u001b[0;36m5\u001b[0m\u001b[0;34m*\u001b[0m\u001b[0;36m3\u001b[0m\u001b[0;34m)\u001b[0m\u001b[0;34m)\u001b[0m\u001b[0;34m\u001b[0m\u001b[0;34m\u001b[0m\u001b[0m\n\u001b[0m\u001b[1;32m      5\u001b[0m \u001b[0;34m\u001b[0m\u001b[0m\n\u001b[1;32m      6\u001b[0m \u001b[0;34m\u001b[0m\u001b[0m\n",
            "\u001b[0;31mTypeError\u001b[0m: can only concatenate str (not \"int\") to str"
          ]
        }
      ]
    },
    {
      "cell_type": "markdown",
      "source": [
        "**Skill Group 4**\n",
        "\n",
        "Resolve a ZeroDivisionError caused by an attempt to divide by 0"
      ],
      "metadata": {
        "id": "_y400omReibB"
      }
    },
    {
      "cell_type": "code",
      "source": [
        "numerator = 7\n",
        "denominator = 0   # Possible resolution: Change the denominator value\n",
        "result = numerator / denominator\n",
        "print(result)\n",
        "\n",
        "\n",
        "# One possible assumption for a number divided by zero error might\n",
        "# include the issue of a null value as a denominator (could happen when\n",
        "# using a loop to iterate over values in a database). In such cases, the\n",
        "# desired outcome may be to leave the numerator value intact. The\n",
        "# numerator value can be preserved by reassigning the denominator with\n",
        "# the integer value of 1. The result would then equal the numerator."
      ],
      "metadata": {
        "colab": {
          "base_uri": "https://localhost:8080/",
          "height": 220
        },
        "id": "7Sqz03gaelnn",
        "outputId": "3a3f8189-0582-4009-da12-9b287b1600d4"
      },
      "execution_count": 7,
      "outputs": [
        {
          "output_type": "error",
          "ename": "ZeroDivisionError",
          "evalue": "division by zero",
          "traceback": [
            "\u001b[0;31m---------------------------------------------------------------------------\u001b[0m",
            "\u001b[0;31mZeroDivisionError\u001b[0m                         Traceback (most recent call last)",
            "\u001b[0;32m<ipython-input-7-9b60a66ac326>\u001b[0m in \u001b[0;36m<cell line: 3>\u001b[0;34m()\u001b[0m\n\u001b[1;32m      1\u001b[0m \u001b[0mnumerator\u001b[0m \u001b[0;34m=\u001b[0m \u001b[0;36m7\u001b[0m\u001b[0;34m\u001b[0m\u001b[0;34m\u001b[0m\u001b[0m\n\u001b[1;32m      2\u001b[0m \u001b[0mdenominator\u001b[0m \u001b[0;34m=\u001b[0m \u001b[0;36m0\u001b[0m   \u001b[0;31m# Possible resolution: Change the denominator value\u001b[0m\u001b[0;34m\u001b[0m\u001b[0;34m\u001b[0m\u001b[0m\n\u001b[0;32m----> 3\u001b[0;31m \u001b[0mresult\u001b[0m \u001b[0;34m=\u001b[0m \u001b[0mnumerator\u001b[0m \u001b[0;34m/\u001b[0m \u001b[0mdenominator\u001b[0m\u001b[0;34m\u001b[0m\u001b[0;34m\u001b[0m\u001b[0m\n\u001b[0m\u001b[1;32m      4\u001b[0m \u001b[0mprint\u001b[0m\u001b[0;34m(\u001b[0m\u001b[0mresult\u001b[0m\u001b[0;34m)\u001b[0m\u001b[0;34m\u001b[0m\u001b[0;34m\u001b[0m\u001b[0m\n\u001b[1;32m      5\u001b[0m \u001b[0;34m\u001b[0m\u001b[0m\n",
            "\u001b[0;31mZeroDivisionError\u001b[0m: division by zero"
          ]
        }
      ]
    },
    {
      "cell_type": "markdown",
      "source": [
        "Built-in **functions**"
      ],
      "metadata": {
        "id": "Ol2U8zNsfGT7"
      }
    },
    {
      "cell_type": "code",
      "source": [
        "month = \"September\"\n",
        "print(\"Investigate failed login attempts during\", month, \"if more than\", 100)"
      ],
      "metadata": {
        "colab": {
          "base_uri": "https://localhost:8080/"
        },
        "id": "KcoIS9aBfHj3",
        "outputId": "f072b41f-722a-4b73-e7c2-da160d4d6289"
      },
      "execution_count": 8,
      "outputs": [
        {
          "output_type": "stream",
          "name": "stdout",
          "text": [
            "Investigate failed login attempts during September if more than 100\n"
          ]
        }
      ]
    },
    {
      "cell_type": "markdown",
      "source": [
        "type()  "
      ],
      "metadata": {
        "id": "VgPgVJpCfnx4"
      }
    },
    {
      "cell_type": "code",
      "source": [
        "print(type(\"This is a string\"))"
      ],
      "metadata": {
        "colab": {
          "base_uri": "https://localhost:8080/"
        },
        "id": "gys5wjccfr_l",
        "outputId": "02a8e954-981c-4f23-a7da-2c11a37d3424"
      },
      "execution_count": 9,
      "outputs": [
        {
          "output_type": "stream",
          "name": "stdout",
          "text": [
            "<class 'str'>\n"
          ]
        }
      ]
    },
    {
      "cell_type": "markdown",
      "source": [
        "It displays str(), which means that the argument passed to the type() function is a string. This happens because the type() function is processed first and its output is passed as an argument to the print() function."
      ],
      "metadata": {
        "id": "BoQcz1WtfxB4"
      }
    },
    {
      "cell_type": "markdown",
      "source": [
        "str()"
      ],
      "metadata": {
        "id": "mu2mw0HEf8IV"
      }
    },
    {
      "cell_type": "code",
      "source": [
        "number = 12\n",
        "string_representation = str(number)\n",
        "print(string_representation)"
      ],
      "metadata": {
        "colab": {
          "base_uri": "https://localhost:8080/"
        },
        "id": "A8HAsJwefyNN",
        "outputId": "c960640a-cddb-4b1f-e685-b1f6930ce358"
      },
      "execution_count": 10,
      "outputs": [
        {
          "output_type": "stream",
          "name": "stdout",
          "text": [
            "12\n"
          ]
        }
      ]
    },
    {
      "cell_type": "markdown",
      "source": [
        "sorted()"
      ],
      "metadata": {
        "id": "YfppiTp5gAx3"
      }
    },
    {
      "cell_type": "code",
      "source": [
        "time_list = [12, 2, 32, 19, 57, 22, 14]\n",
        "print(sorted(time_list))"
      ],
      "metadata": {
        "colab": {
          "base_uri": "https://localhost:8080/"
        },
        "id": "9YN_B2DNgIjt",
        "outputId": "71a11746-5d7d-4437-d4dd-f92e8b04e44f"
      },
      "execution_count": 11,
      "outputs": [
        {
          "output_type": "stream",
          "name": "stdout",
          "text": [
            "[2, 12, 14, 19, 22, 32, 57]\n"
          ]
        }
      ]
    },
    {
      "cell_type": "markdown",
      "source": [
        "This displays the sorted list.\n",
        "\n",
        "The sorted() function does not change the iterable that it sorts. The following code illustrates this:"
      ],
      "metadata": {
        "id": "bHQ1uIxEgMk_"
      }
    },
    {
      "cell_type": "code",
      "source": [
        "time_list = [12, 2, 32, 19, 57, 22, 14]\n",
        "print(sorted(time_list))\n",
        "print(time_list)"
      ],
      "metadata": {
        "colab": {
          "base_uri": "https://localhost:8080/"
        },
        "id": "fYEUnIsbgNRl",
        "outputId": "a20369cd-fe11-4210-8eca-ca6b14dbf56d"
      },
      "execution_count": 12,
      "outputs": [
        {
          "output_type": "stream",
          "name": "stdout",
          "text": [
            "[2, 12, 14, 19, 22, 32, 57]\n",
            "[12, 2, 32, 19, 57, 22, 14]\n"
          ]
        }
      ]
    },
    {
      "cell_type": "markdown",
      "source": [
        "The first print() function displays the sorted list. However, the second print() function, which does not include the sorted() function, displays the list as assigned to time_list in the first line of code.\n",
        "\n",
        "One more important detail about the sorted() function is that it cannot take lists or strings that have elements of more than one data type. For example, you can’t use the list [1, 2, \"hello\"]."
      ],
      "metadata": {
        "id": "LTqxNkx9gPNF"
      }
    },
    {
      "cell_type": "markdown",
      "source": [
        "max() and min()"
      ],
      "metadata": {
        "id": "_NFmi64AgRWZ"
      }
    },
    {
      "cell_type": "code",
      "source": [
        "time_list = [12, 2, 32, 19, 57, 22, 14]\n",
        "print(min(time_list))\n",
        "print(max(time_list))"
      ],
      "metadata": {
        "colab": {
          "base_uri": "https://localhost:8080/"
        },
        "id": "7N4iuMSigZqY",
        "outputId": "62405693-2e13-4f2a-be0b-e22bcd5486ff"
      },
      "execution_count": 13,
      "outputs": [
        {
          "output_type": "stream",
          "name": "stdout",
          "text": [
            "2\n",
            "57\n"
          ]
        }
      ]
    },
    {
      "cell_type": "markdown",
      "source": [
        "**Returning values**\n",
        "\n"
      ],
      "metadata": {
        "id": "hRWe0NjMgjaO"
      }
    },
    {
      "cell_type": "code",
      "source": [
        "def area_triangle(base, height):\n",
        "    return base*height/2"
      ],
      "metadata": {
        "id": "lfaCK3awgkCe"
      },
      "execution_count": 14,
      "outputs": []
    },
    {
      "cell_type": "code",
      "source": [
        "area_a = area_triangle(5,4)\n",
        "area_b = area_triangle(7,3)"
      ],
      "metadata": {
        "id": "SMwSbPwfgu50"
      },
      "execution_count": 15,
      "outputs": []
    },
    {
      "cell_type": "code",
      "source": [
        "sum = area_a + area_b"
      ],
      "metadata": {
        "id": "K285EPTcgxn7"
      },
      "execution_count": 16,
      "outputs": []
    },
    {
      "cell_type": "code",
      "source": [
        "print(\"The sum of both areas is: \" + str(sum))"
      ],
      "metadata": {
        "colab": {
          "base_uri": "https://localhost:8080/"
        },
        "id": "mq4NIc1sg1Np",
        "outputId": "ad3dcf2b-d0e2-45c9-ba6e-49d7f032a86e"
      },
      "execution_count": 17,
      "outputs": [
        {
          "output_type": "stream",
          "name": "stdout",
          "text": [
            "The sum of both areas is: 20.5\n"
          ]
        }
      ]
    },
    {
      "cell_type": "code",
      "source": [
        "def area_triangle(base, height):\n",
        "    return base*height/2\n",
        "area_a = area_triangle(5,4)\n",
        "area_b = area_triangle(7,3)\n",
        "sum = area_a + area_b\n",
        "print(\"The sum of both areas is: \" + str(sum))"
      ],
      "metadata": {
        "colab": {
          "base_uri": "https://localhost:8080/"
        },
        "id": "-lfNv4OAg2Ur",
        "outputId": "28d4ec09-6c38-408d-9881-13d662de089a"
      },
      "execution_count": 18,
      "outputs": [
        {
          "output_type": "stream",
          "name": "stdout",
          "text": [
            "The sum of both areas is: 20.5\n"
          ]
        }
      ]
    },
    {
      "cell_type": "code",
      "source": [
        "def convert_seconds(seconds):\n",
        "    hours = seconds // 3600\n",
        "    minutes = (seconds - hours * 3600) // 60\n",
        "    remaining_seconds = seconds - hours * 3600 - minutes * 60\n",
        "    return hours, minutes, remaining_seconds"
      ],
      "metadata": {
        "id": "EnTYa9iIg5E_"
      },
      "execution_count": 19,
      "outputs": []
    },
    {
      "cell_type": "code",
      "source": [
        "hours, minutes, seconds = convert_seconds(5000)\n",
        "print(hours, minutes, seconds)"
      ],
      "metadata": {
        "colab": {
          "base_uri": "https://localhost:8080/"
        },
        "id": "2-SDQfGzg7KX",
        "outputId": "f6b8233a-56f8-4d0a-d9d4-8a6576d7e750"
      },
      "execution_count": 20,
      "outputs": [
        {
          "output_type": "stream",
          "name": "stdout",
          "text": [
            "1 23 20\n"
          ]
        }
      ]
    },
    {
      "cell_type": "code",
      "source": [
        "def convert_seconds(seconds):\n",
        "    hours = seconds // 3600\n",
        "    minutes = (seconds - hours * 3600) // 60\n",
        "    remaining_seconds = seconds - hours * 3600 - minutes * 60\n",
        "    return hours, minutes, remaining_seconds\n",
        "\n",
        "hours, minutes, seconds = convert_seconds(5000)\n",
        "print(hours, minutes, seconds)"
      ],
      "metadata": {
        "colab": {
          "base_uri": "https://localhost:8080/"
        },
        "id": "ihsemqi8g9N9",
        "outputId": "ea610fb3-1096-4ce8-8c2b-b63597dfeba5"
      },
      "execution_count": 21,
      "outputs": [
        {
          "output_type": "stream",
          "name": "stdout",
          "text": [
            "1 23 20\n"
          ]
        }
      ]
    },
    {
      "cell_type": "code",
      "source": [
        "def greeting(name):\n",
        "    print(\"Welcome, \" + name)\n",
        "result = greeting(\"Christine\")\n",
        "print(result)"
      ],
      "metadata": {
        "colab": {
          "base_uri": "https://localhost:8080/"
        },
        "id": "10U93AlKg_mH",
        "outputId": "3f1c8345-4f69-44c2-ba7b-066a266bc73f"
      },
      "execution_count": 22,
      "outputs": [
        {
          "output_type": "stream",
          "name": "stdout",
          "text": [
            "Welcome, Christine\n",
            "None\n"
          ]
        }
      ]
    },
    {
      "cell_type": "markdown",
      "source": [
        "\n",
        "**The principles of code reuse**\n",
        "\n",
        "\n"
      ],
      "metadata": {
        "id": "kCi5U9COhLgr"
      }
    },
    {
      "cell_type": "code",
      "source": [
        "name = \"Yesner\"\n",
        "number = len(name) * 9\n",
        "\n",
        "print(\"Hello \" + name + \". Your lucky number is \" + str(number))\n",
        "\n",
        "name = \"Salgado\"\n",
        "number = len(name) * 9\n",
        "\n",
        "print(\"Hello \" + name + \". Your lucky number is \" + str(number))"
      ],
      "metadata": {
        "colab": {
          "base_uri": "https://localhost:8080/"
        },
        "id": "w5PpT0TqhTWj",
        "outputId": "45899fe2-0fd3-49f3-b5f2-6b8b5bfcd288"
      },
      "execution_count": 24,
      "outputs": [
        {
          "output_type": "stream",
          "name": "stdout",
          "text": [
            "Hello Yesner. Your lucky number is 54\n",
            "Hello Salgado. Your lucky number is 63\n"
          ]
        }
      ]
    },
    {
      "cell_type": "code",
      "source": [
        "def lucky_number(name):\n",
        "    number = len(name) * 9\n",
        "    print(\"Hello \" + name + \". Your lucky number is \" + str(number))\n",
        "\n",
        "lucky_number(\"Kay\")\n",
        "lucky_number(\"Cameron\")"
      ],
      "metadata": {
        "colab": {
          "base_uri": "https://localhost:8080/"
        },
        "id": "PEFJ4FLuhhbZ",
        "outputId": "ddd6707c-aa91-4148-f134-071c1478c572"
      },
      "execution_count": 25,
      "outputs": [
        {
          "output_type": "stream",
          "name": "stdout",
          "text": [
            "Hello Kay. Your lucky number is 27\n",
            "Hello Cameron. Your lucky number is 63\n"
          ]
        }
      ]
    },
    {
      "cell_type": "markdown",
      "source": [
        "**Code style**"
      ],
      "metadata": {
        "id": "JNEG8mjghpBt"
      }
    },
    {
      "cell_type": "code",
      "source": [
        "def calculate(d):\n",
        "    q = 3.14\n",
        "    z = q * (d ** 2)\n",
        "    print(z)\n",
        "\n",
        "calculate(5)\n",
        "#Output is 78.5"
      ],
      "metadata": {
        "colab": {
          "base_uri": "https://localhost:8080/"
        },
        "id": "9i8ObX4ghdPN",
        "outputId": "2a6fd2c0-c360-446d-beff-998fe2dcd06e"
      },
      "execution_count": 26,
      "outputs": [
        {
          "output_type": "stream",
          "name": "stdout",
          "text": [
            "78.5\n"
          ]
        }
      ]
    },
    {
      "cell_type": "code",
      "source": [
        "def circle_area(radius):\n",
        "    pi = 3.14\n",
        "    area = pi * (radius ** 2)\n",
        "    print(area)\n",
        "\n",
        "circle_area(5)\n",
        "#Output is 78.5"
      ],
      "metadata": {
        "colab": {
          "base_uri": "https://localhost:8080/"
        },
        "id": "mZIICabUhzsJ",
        "outputId": "0c413359-d8ec-48e9-a6c9-6add07c62f40"
      },
      "execution_count": 27,
      "outputs": [
        {
          "output_type": "stream",
          "name": "stdout",
          "text": [
            "78.5\n"
          ]
        }
      ]
    },
    {
      "cell_type": "code",
      "source": [
        "#This is how you write a comment in Python\n",
        "#Just add a hash symbol to the beginning of your line of code"
      ],
      "metadata": {
        "id": "_vy37l8zh3_I"
      },
      "execution_count": 28,
      "outputs": []
    },
    {
      "cell_type": "markdown",
      "source": [
        "# **Functions**"
      ],
      "metadata": {
        "id": "tR3tWVbJif9q"
      }
    },
    {
      "cell_type": "markdown",
      "source": [
        "**Coding skills**\n",
        "\n",
        "Skill Group 1\n",
        "\n",
        "Use a function that accepts multiple parameters\n",
        "\n",
        "Return a result value"
      ],
      "metadata": {
        "id": "yRaRD_28ikhq"
      }
    },
    {
      "cell_type": "code",
      "source": [
        "# This function calculates the number of days in a variable number of\n",
        "# years, months, and days. These variables are provided by the user and\n",
        "# are passed to the function through the function’s parameters.\n",
        "def find_total_days(years, months, days):\n",
        "# Assign a variable to hold the calculations for the number of days in\n",
        "# a year (years*365) plus the number of days in a month (months*30) plus\n",
        "# the number of days provided through the \"days\" parameter variable.\n",
        "    my_days = (years*365) + (months*30) + days\n",
        "# Use the \"return\" keyword to send the result of the \"my_days\"\n",
        "# calculation to the function call.\n",
        "    return my_days\n",
        "\n",
        "# Function call with user provided parameter values.\n",
        "print(find_total_days(2,5,23))"
      ],
      "metadata": {
        "colab": {
          "base_uri": "https://localhost:8080/"
        },
        "id": "OFi05YLTitqu",
        "outputId": "0460d508-0aa7-4010-b692-d3e15fbeaaf3"
      },
      "execution_count": 29,
      "outputs": [
        {
          "output_type": "stream",
          "name": "stdout",
          "text": [
            "903\n"
          ]
        }
      ]
    },
    {
      "cell_type": "markdown",
      "source": [
        "**Skill Group 2**\n",
        "\n",
        "Use a function to return the result of a measurement conversion\n",
        "\n",
        "Use arithmetic operators to perform a calculation\n",
        "\n",
        "Combine text with a function call within a print() statement\n",
        "\n",
        "Convert the return value from a float data type to a string for the print() function\n",
        "\n",
        "Call the function and perform a calculation on the return value within a print() statement"
      ],
      "metadata": {
        "id": "TMqmK4iFixJz"
      }
    },
    {
      "cell_type": "code",
      "source": [
        "# This function converts fluid ounces to milliliters and returns the\n",
        "# result of the conversion.\n",
        "def convert_volume(fluid_ounce):\n",
        "# Calculate value of the \"ml\" variable using the parameter variable\n",
        "# \"fluid_ounce\". There are approximately 29.5 milliliters in 1 fluid\n",
        "# ounce.\n",
        "    ml = fluid_ounce * 29.5\n",
        "# Return the result of the calculation.\n",
        "    return ml\n",
        "\n",
        "# Call the conversion from within the print() function using 2 fluid\n",
        "# ounces. Convert the return value from a float to a string.\n",
        "print(\"The volume in milliliters is \" + str(convert_volume(2)))\n",
        "\n",
        "# Call the function again and double the 2 fluid ounces from within\n",
        "# the print function.\n",
        "print(\"The volume in milliliters is \" + str(convert_volume(2)*2))\n",
        "# Alternative calculation:\n",
        "# print(\"The volume in milliliters is \" + str(convert_volume(4))\n"
      ],
      "metadata": {
        "colab": {
          "base_uri": "https://localhost:8080/"
        },
        "id": "EPPWM2pmi543",
        "outputId": "0f47ffb7-a870-493f-8220-8be07716c8e7"
      },
      "execution_count": 30,
      "outputs": [
        {
          "output_type": "stream",
          "name": "stdout",
          "text": [
            "The volume in milliliters is 59.0\n",
            "The volume in milliliters is 118.0\n"
          ]
        }
      ]
    },
    {
      "cell_type": "markdown",
      "source": [
        "**Comparison Operators with Equations**\n"
      ],
      "metadata": {
        "id": "4Yi_rvjvjGjU"
      }
    },
    {
      "cell_type": "markdown",
      "source": [
        "PART 1: Equality == and Not Equal To != Operators"
      ],
      "metadata": {
        "id": "Uv7Ipyw1jL1f"
      }
    },
    {
      "cell_type": "code",
      "source": [
        "\n",
        "print(32 == 30+2)   # The == operator checks if the 2 values are\n",
        "True                # equal to each other. If they are equal,\n",
        "                    # Python returns a True result.\n",
        "\n",
        "\n",
        "print(5+10 == 6+7)  # If the two values are not equal, as in the\n",
        "False               # expression 5+10 == 6+7 (or 15 == 13), Python\n",
        "                    # returns a False result.\n",
        "\n",
        "\n",
        "print(10-4 != 10+4) # The != operator checks if the 2 values are\n",
        "True                # NOT equal to each other. If true, Python\n",
        "                    # returns a True result.\n",
        "\n",
        "\n",
        "print(9/3 != 3*1)   # In this last example, 9/3 != 3*1 (or 3 != 3)\n",
        "False               # is false. So, Python returns a False value."
      ],
      "metadata": {
        "colab": {
          "base_uri": "https://localhost:8080/"
        },
        "id": "o72oJkhFjJh-",
        "outputId": "8d228ff0-f17b-4848-e968-b5fb9af96f39"
      },
      "execution_count": 31,
      "outputs": [
        {
          "output_type": "stream",
          "name": "stdout",
          "text": [
            "True\n",
            "False\n",
            "True\n",
            "False\n"
          ]
        },
        {
          "output_type": "execute_result",
          "data": {
            "text/plain": [
              "False"
            ]
          },
          "metadata": {},
          "execution_count": 31
        }
      ]
    },
    {
      "cell_type": "markdown",
      "source": [
        "The equality == operator versus the equals = operator\n"
      ],
      "metadata": {
        "id": "NKK8vViIjPvb"
      }
    },
    {
      "cell_type": "code",
      "source": [
        "\n",
        "# The = equals assignment operator is used to assign a value to a\n",
        "# variable.\n",
        "\n",
        "my_variable = 3*5           # Assigns a value to my_variable\n",
        "print(my_variable)          # Printing the variable returns the\n",
        "15                          # value assigned to the variable.\n",
        "\n",
        "\n",
        "\n",
        "# The == equality comparison operator checks if the values of the two\n",
        "# expressions on either side of the == operator are equivalent to one\n",
        "# another.\n",
        "\n",
        "print(my_variable == 3*5)   # Printing the variable returns a Boolean\n",
        "True                        # True or False result."
      ],
      "metadata": {
        "colab": {
          "base_uri": "https://localhost:8080/"
        },
        "id": "VghD1X-CjWVH",
        "outputId": "840262d4-1abd-4571-816a-a74b3467fb11"
      },
      "execution_count": 32,
      "outputs": [
        {
          "output_type": "stream",
          "name": "stdout",
          "text": [
            "15\n",
            "True\n"
          ]
        },
        {
          "output_type": "execute_result",
          "data": {
            "text/plain": [
              "True"
            ]
          },
          "metadata": {},
          "execution_count": 32
        }
      ]
    },
    {
      "cell_type": "markdown",
      "source": [
        "PART 2: Greater Than > and Less Than < Operators\n"
      ],
      "metadata": {
        "id": "fqJl3xRxjYc2"
      }
    },
    {
      "cell_type": "code",
      "source": [
        "\n",
        "print(11 > 3*3)         # The > operator checks if the left value is\n",
        "True                    # greater than the right value. If true, it\n",
        "                        # returns a True result.\n",
        "\n",
        "\n",
        "print(4/2 > 8-4)        # If the > operator finds that the left value\n",
        "False                   # is NOT greater than the right value, the\n",
        "                        # comparison will return a False result.\n",
        "\n",
        "\n",
        "print(4/2 < 8-4)        # The < operator checks  if the left value is\n",
        "True                    # less than the right side. If true, the\n",
        "                        # comparison returns a True result.\n",
        "\n",
        "\n",
        "print(11 < 3*3)         # If the < operator finds that the left side is False\n",
        "                        # NOT less than the right value, Python returns\n",
        "False                   # a False result."
      ],
      "metadata": {
        "colab": {
          "base_uri": "https://localhost:8080/"
        },
        "id": "Y1DOfofYjc2Y",
        "outputId": "0fb2706f-cb7d-4c70-d597-9023a02a9eba"
      },
      "execution_count": 33,
      "outputs": [
        {
          "output_type": "stream",
          "name": "stdout",
          "text": [
            "True\n",
            "False\n",
            "True\n",
            "False\n"
          ]
        },
        {
          "output_type": "execute_result",
          "data": {
            "text/plain": [
              "False"
            ]
          },
          "metadata": {},
          "execution_count": 33
        }
      ]
    },
    {
      "cell_type": "markdown",
      "source": [
        "PART 3: Greater Than or Equal to >= and Less Than or Equal to <= Operators\n"
      ],
      "metadata": {
        "id": "5x3WbXzrjfpk"
      }
    },
    {
      "cell_type": "code",
      "source": [
        "\n",
        "print(12*2 >= 24)   # The >= operator checks if the left value is\n",
        "True                # greater than or equal to the right value.\n",
        "                    # If one of these conditions is true,\n",
        "                    # Python returns a True result. In this case\n",
        "                    # the two values are equal. So, the comparison\n",
        "                    # returns a True result.\n",
        "\n",
        "\n",
        "print(18/2 >= 15)   # If the >= comparison determines that the left\n",
        "False               # value is NOT greater than or equal to the\n",
        "                    # right, it returns a False result.\n",
        "\n",
        "print(12*2 <= 30)   # The <= operator checks if the left value is\n",
        "True                # less than or equal to the right value. In\n",
        "                    # this case, the left value is less than the\n",
        "                    # right value. Again, if one of the two\n",
        "                    # conditions is true, Python returns a True\n",
        "                    # result.\n",
        "\n",
        "\n",
        "print(15 <= 18/2)   # If the <= comparison determines that the left\n",
        "False               # value is NOT less than or equal to the right\n",
        "                    # value, the comparison returns a False result."
      ],
      "metadata": {
        "colab": {
          "base_uri": "https://localhost:8080/"
        },
        "id": "amGTjSPWjvkQ",
        "outputId": "4cef53b2-f54c-4cec-fd3d-0e960e39676e"
      },
      "execution_count": 34,
      "outputs": [
        {
          "output_type": "stream",
          "name": "stdout",
          "text": [
            "True\n",
            "False\n",
            "True\n",
            "False\n"
          ]
        },
        {
          "output_type": "execute_result",
          "data": {
            "text/plain": [
              "False"
            ]
          },
          "metadata": {},
          "execution_count": 34
        }
      ]
    },
    {
      "cell_type": "markdown",
      "source": [
        "**Comparison Operators with Strings**\n"
      ],
      "metadata": {
        "id": "0OlGmk0dkJCJ"
      }
    },
    {
      "cell_type": "markdown",
      "source": [
        "PART 1: Equality == and Not Equal to != Operators with Strings\n"
      ],
      "metadata": {
        "id": "fZDSNcUwkOUp"
      }
    },
    {
      "cell_type": "code",
      "source": [
        "# The == operator can check if two strings are equal to each other.\n",
        "# If they are equal, the Python interpreter returns a True result.\n",
        "print(\"a string\" == \"a string\")\n",
        "True\n",
        "\n",
        "\n",
        "# In this example, the equality == comparison is between \"4 + 5\" and\n",
        "# 4 + 5. Since the left data type is a string and the right data type\n",
        "# is an integer, the two values cannot be equal. So, the comparison\n",
        "# returns a False result.\n",
        "print(\"4 + 5\" == 4 + 5)\n",
        "False\n",
        "\n",
        "\n",
        "# The != operator can check if the two strings are NOT equal to each\n",
        "# other. If they are indeed not equal, then Python returns a True result.\n",
        "print(\"rabbit\" != \"frog\")\n",
        "True\n",
        "\n",
        "\n",
        "# In this example, the variable event_city has been assigned the string\n",
        "# value \"Shanghai\". This variable is compared to a static string,\n",
        "# \"Shanghai\", using the != operator. As, the strings \"Shanghai\" and\n",
        "# \"Shanghai\" are the same, the comparison of \"Shanghai\" != \"Shanghai\"\n",
        "# is false. Accordingly, Python will return a False result.\n",
        "event_city = \"Shanghai\"\n",
        "print(event_city != \"Shanghai\")\n",
        "False\n",
        "\n",
        "# This last example illustrates the result of trying to compare two\n",
        "# items of different data types using the equality == operator. The\n",
        "# two items are not equal, so the comparison returns False.\n",
        "print(\"three\" == 3)\n",
        "False\n"
      ],
      "metadata": {
        "colab": {
          "base_uri": "https://localhost:8080/"
        },
        "id": "gy5NCQ-pkKqZ",
        "outputId": "58f77ca8-5110-401e-e73c-5576bb45ac2c"
      },
      "execution_count": 35,
      "outputs": [
        {
          "output_type": "stream",
          "name": "stdout",
          "text": [
            "True\n",
            "False\n",
            "True\n",
            "False\n",
            "False\n"
          ]
        },
        {
          "output_type": "execute_result",
          "data": {
            "text/plain": [
              "False"
            ]
          },
          "metadata": {},
          "execution_count": 35
        }
      ]
    },
    {
      "cell_type": "markdown",
      "source": [
        "PART 2: The Greater Than > and Less Than < Operators\n"
      ],
      "metadata": {
        "id": "jPli0v-bkRjt"
      }
    },
    {
      "cell_type": "code",
      "source": [
        "# The greater than > operator checks if the left string has a higher\n",
        "# Unicode value than the right string. If true, the Python interpreter\n",
        "# returns a True result. Since W has a Unicode value of 87, and you can\n",
        "# easily calculate that F has a Unicode value of 70, this comparison is\n",
        "# the same as 87 > 70. As this is true, Python will return a True\n",
        "# result.\n",
        "print(\"Wednesday\" > \"Friday\")\n",
        "True\n",
        "\n",
        "\n",
        "# The less than < operator checks if the left string has a lower\n",
        "# Unicode value than the right string. If you reference the Unicode\n",
        "# chart above, you can see that all lowercase letters have higher\n",
        "# Unicode values than uppercase letters. We can see that B has a\n",
        "# Unicode value of 66 and b has a Unicode value of 98. This\n",
        "# comparison is the same as 66 < 98, which is true. So, Python will\n",
        "# return a True result.\n",
        "print(\"Brown\" < \"brown\")\n",
        "True\n",
        "\n",
        "\n",
        "# If the strings have the same first few letters, the comparison will\n",
        "# cycle through each letter of each string, from left to right until it\n",
        "# finds two letters that have different Unicode values. In this example,\n",
        "# both strings share the initial substring \"sun\", but then have\n",
        "# different letters with different Unicode values in the fourth place\n",
        "# in each string. So, the fourth letters 'b' and 't' of the two\n",
        "# strings are used for the comparison. Since 'b' does not have a higher\n",
        "# Unicode value than 't', the comparison returns a False result.\n",
        "print(\"sunbathe\" > \"suntan\")\n",
        "False\n",
        "\n",
        "\n",
        "# If two identical strings are compared using the less than < comparison\n",
        "# operator, this will produce a False result because they are equal.\n",
        "print(\"Lima\" < \"Lima\")\n",
        "False\n",
        "\n",
        "\n",
        "# This last example illustrates the result of trying to compare two\n",
        "# items of different data types using the less than < operator. The\n",
        "# greater than > and less than operators < cannot be used to compare\n",
        "# two different data types.\n",
        "print(\"Five\" < 6)\n",
        "'''\n",
        "Error on line 1:\n",
        "    print(\"Five\" < 6)\n",
        "TypeError: '<' not supported between instances of 'str' and 'int'\n"
      ],
      "metadata": {
        "colab": {
          "base_uri": "https://localhost:8080/",
          "height": 110
        },
        "id": "5ks7GNT8kqVM",
        "outputId": "a16b304b-df45-45d7-c5bb-c3d4ac72da3a"
      },
      "execution_count": 36,
      "outputs": [
        {
          "output_type": "error",
          "ename": "SyntaxError",
          "evalue": "incomplete input (<ipython-input-36-a92d205ce61a>, line 45)",
          "traceback": [
            "\u001b[0;36m  File \u001b[0;32m\"<ipython-input-36-a92d205ce61a>\"\u001b[0;36m, line \u001b[0;32m45\u001b[0m\n\u001b[0;31m    '''\u001b[0m\n\u001b[0m    ^\u001b[0m\n\u001b[0;31mSyntaxError\u001b[0m\u001b[0;31m:\u001b[0m incomplete input\n"
          ]
        }
      ]
    },
    {
      "cell_type": "markdown",
      "source": [
        "PART 3: The Greater Than or Equal To >= and Less Than or Equal To <= Operators"
      ],
      "metadata": {
        "id": "ZR7XN_u7kvpi"
      }
    },
    {
      "cell_type": "code",
      "source": [
        "# Use the Unicode chart in Part 2 to determine if the Unicode values of\n",
        "# the first letters of each string are higher, lower, or equal to one\n",
        "# another.\n",
        "\n",
        "\n",
        "var1 = \"my computer\" >= \"my chair\"\n",
        "var2 = \"Spring\" <= \"Winter\"\n",
        "var3 = \"pineapple\" >= \"pineapple\"\n",
        "\n",
        "print(\"Is \\\"my computer\\\" greater than or equal to \\\"my chair\\\"? Result: \", var1)\n",
        "print(\"Is \\\"Spring\\\" less than or equal to \\\"Winter\\\"? Result: \", var2)\n",
        "print(\"Is \\\"pineapple\\\" less than or equal to \\\"pineapple\\\"? Result: \", var3)"
      ],
      "metadata": {
        "colab": {
          "base_uri": "https://localhost:8080/"
        },
        "id": "o0dIATphk0R-",
        "outputId": "7c06b651-9957-4acf-b366-f6798501e68f"
      },
      "execution_count": 37,
      "outputs": [
        {
          "output_type": "stream",
          "name": "stdout",
          "text": [
            "Is \"my computer\" greater than or equal to \"my chair\"? Result:  True\n",
            "Is \"Spring\" less than or equal to \"Winter\"? Result:  True\n",
            "Is \"pineapple\" less than or equal to \"pineapple\"? Result:  True\n"
          ]
        }
      ]
    },
    {
      "cell_type": "markdown",
      "source": [
        "**Logical Operators**\n"
      ],
      "metadata": {
        "id": "ML6GF-1WlNMj"
      }
    },
    {
      "cell_type": "markdown",
      "source": [
        "PART 1: The and Logical Operator"
      ],
      "metadata": {
        "id": "S6B8gOCmlSV-"
      }
    },
    {
      "cell_type": "code",
      "source": [
        "# Example 1\n",
        "\n",
        "print((6*3 >= 18) and (9+9 <= 36/2))"
      ],
      "metadata": {
        "colab": {
          "base_uri": "https://localhost:8080/"
        },
        "id": "A7RzruxclQa6",
        "outputId": "97df701c-524f-431f-d865-9d68c3cccaa0"
      },
      "execution_count": 38,
      "outputs": [
        {
          "output_type": "stream",
          "name": "stdout",
          "text": [
            "True\n"
          ]
        }
      ]
    },
    {
      "cell_type": "markdown",
      "source": [
        " In the example above, the following activities were completed by Python in the following order:  \n",
        "\n",
        "Python solves the numerical expressions using the order of operations. (6*3 >= 18) and (9+9 <= 36/2) becomes (18 >= 18) and (18 <= 18)\n",
        "\n",
        "Python compares the results of the numerical expressions using the comparison operators (in this case >= and <=). (18 >= 18) and (18 <= 18) becomes True and True\n",
        "\n",
        "Python checks if both sides of the logical operator \"and\" are true. True and True become True\n",
        "\n",
        "Python returns a Boolean value: True or False. The complex comparison returns a True result."
      ],
      "metadata": {
        "id": "0Mu18IWSlV9O"
      }
    },
    {
      "cell_type": "markdown",
      "source": [
        "*Example 2:*\n",
        "\n",
        "In this next example, \"Nairobi\" < \"Milan\" and \"Nairobi\" > \"Hanoi\", the and logical operator is connecting two string comparison statements. You learned previously that using the greater than and less than operators on strings will test the alphabetical order (technically Unicode values) of the strings. So, this complex comparison is checking if \"Nairobi\" is alphabetized before \"Milan\" (False) AND after \"Hanoi\" (True).\n",
        "\n",
        "This comparison returns a False result because both sides of the logical operator are not True. A comparison statement like this might be used to iterate through a list of names to check if they are alphabetized in the correct order."
      ],
      "metadata": {
        "id": "vkYZ2r7Hlaly"
      }
    },
    {
      "cell_type": "code",
      "source": [
        "# Example 2\n",
        "\n",
        "print(\"Nairobi\" < \"Milan\" and \"Nairobi\" > \"Hanoi\")"
      ],
      "metadata": {
        "colab": {
          "base_uri": "https://localhost:8080/"
        },
        "id": "vVdcdSCPlW1M",
        "outputId": "a40b9f17-f6eb-4bb1-ba20-96586a4180b5"
      },
      "execution_count": 39,
      "outputs": [
        {
          "output_type": "stream",
          "name": "stdout",
          "text": [
            "False\n"
          ]
        }
      ]
    },
    {
      "cell_type": "markdown",
      "source": [
        "PART 2: The or Logical Operator\n"
      ],
      "metadata": {
        "id": "IKQmSEPmlr6i"
      }
    },
    {
      "cell_type": "code",
      "source": [
        "# Define country and city variables\n",
        "country = \"United States\"\n",
        "city = \"New York City\"\n",
        "\n",
        "# True or True returns True\n",
        "print((15/3 < 2+4) or (0 >= 6-7))  # True or True = True\n",
        "\n",
        "# False or True returns True\n",
        "print(country == \"New York City\" or city == \"New York City\")  # False or True = True\n",
        "\n",
        "# True or False returns True\n",
        "print(16 <= 4**2 or 9**(0.5) != 3)  # True or False = True\n",
        "\n",
        "# False or False returns False\n",
        "print(\"B_name\" > \"C_name\" or \"B_name\" < \"A_name\") # False or False = False"
      ],
      "metadata": {
        "colab": {
          "base_uri": "https://localhost:8080/"
        },
        "id": "6macjM9ilsf1",
        "outputId": "4759a153-27d6-46a3-8913-ea10e7625f44"
      },
      "execution_count": 40,
      "outputs": [
        {
          "output_type": "stream",
          "name": "stdout",
          "text": [
            "True\n",
            "True\n",
            "True\n",
            "False\n"
          ]
        }
      ]
    },
    {
      "cell_type": "markdown",
      "source": [
        "PART 3: The not Logical Operator\n"
      ],
      "metadata": {
        "id": "bN83sKY0l4Ov"
      }
    },
    {
      "cell_type": "code",
      "source": [
        "# Test Example 1:\n",
        "\n",
        "x = 2*3 > 6\n",
        "print(\"The value of x is:\")\n",
        "print(x)\n",
        "\n",
        "print(\"\")  # Prints a blank line\n",
        "\n",
        "print(\"The inverse value of x is:\")\n",
        "print(not x)"
      ],
      "metadata": {
        "colab": {
          "base_uri": "https://localhost:8080/"
        },
        "id": "5h_qCpDvl7ot",
        "outputId": "58a5bac7-b385-4d8d-b221-9d5333f5d0e7"
      },
      "execution_count": 41,
      "outputs": [
        {
          "output_type": "stream",
          "name": "stdout",
          "text": [
            "The value of x is:\n",
            "False\n",
            "\n",
            "The inverse value of x is:\n",
            "True\n"
          ]
        }
      ]
    },
    {
      "cell_type": "code",
      "source": [
        "# What happens when you negate a False statement?\n",
        "# Click Run when you are ready to check your answer.\n",
        "\n",
        "\n",
        "today = \"Monday\"\n",
        "print(not today == \"Tuesday\")\n",
        "\n",
        "\n",
        "# The \"today\" variable states today is Monday. This makes the comparison\n",
        "# \"today == Tuesday\" False. The logical operator \"not\" inverts the False\n",
        "# result to become True. In other words, this expression asks if it is\n",
        "# false that today is not Tuesday. More succinctly, \"not False\" means\n",
        "# True.\"\n"
      ],
      "metadata": {
        "colab": {
          "base_uri": "https://localhost:8080/"
        },
        "id": "GpFvqcGJmB6Z",
        "outputId": "2cd26538-8fdf-4c1c-ff66-d4304f1c2897"
      },
      "execution_count": 42,
      "outputs": [
        {
          "output_type": "stream",
          "name": "stdout",
          "text": [
            "True\n"
          ]
        }
      ]
    },
    {
      "cell_type": "markdown",
      "source": [
        "elif statements"
      ],
      "metadata": {
        "id": "vwx5o7PgmXmg"
      }
    },
    {
      "cell_type": "code",
      "source": [
        "def hint_username(username):\n",
        "    if len(username) < 3:\n",
        "        print(\"Invalid username. Must be at least 3 characters long\")\n",
        "    else:\n",
        "        if len(username) > 15:\n",
        "            print(\"Invalid username. Must be at most 15 characters long\")\n",
        "        else:\n",
        "            print(\"Valid username\")"
      ],
      "metadata": {
        "id": "DVAXt7iCmYZQ"
      },
      "execution_count": 43,
      "outputs": []
    },
    {
      "cell_type": "markdown",
      "source": [
        "*About this code*\n",
        "\n",
        "This snippet of code defines a function called hint_username. The if len(username) < 3: statement checks the length of the string username. If the length of the string is less than 3 characters, the code inside the if statement is executed. The print(\"Invalid username. Must be at least 3 characters long\") statement prints the message \"Invalid username. Must be at least 3 characters long\". The else: statement is executed if the length of the string username is greater than 15 characters. In this case, the code inside the else statement is executed, which is the print(\"Invalid username. Must be at most 15 characters long\") statement. If the username is the correct length, between 3 and 15 characters long,  print(\"Valid username\") is executed."
      ],
      "metadata": {
        "id": "zBQZgCH9mdQq"
      }
    },
    {
      "cell_type": "code",
      "source": [
        "def hint_username(username):\n",
        "    if len(username) < 3:\n",
        "        print(\"Invalid username. Must be at least 3 characters long\")\n",
        "    elif len(username) > 15:\n",
        "        print(\"Invalid username. Must be at most 15 characters long\")\n",
        "    else:\n",
        "        print(\"Valid username\")"
      ],
      "metadata": {
        "id": "54G0XZitmgBe"
      },
      "execution_count": 44,
      "outputs": []
    },
    {
      "cell_type": "markdown",
      "source": [
        "*About this code*\n",
        "\n",
        "This snippet of code works the same way as the code block we just looked at. The difference is that this code uses the  elif statement.  elif statements must be used along with an if statement. The elif statement will only be checked if the condition of the if statement was not true.   "
      ],
      "metadata": {
        "id": "MvFGNujlmhza"
      }
    },
    {
      "cell_type": "markdown",
      "source": [
        "**Study Guide: Conditionals**\n",
        "\n",
        "In the Conditionals segment, you learned about the built-in Python operators used for comparing values and the logical operators for making complex comparisons. You also learned how to use operators in if-else-elif blocks.\n",
        "\n",
        "Knowledge\n",
        "Comparison operators with numerical values\n",
        "Comparison expressions return a Boolean result (True or False).\n",
        "\n",
        "* x == y        If x is equal to y, return True. Else, return False.\n",
        "\n",
        "* x != y         If x is not equal to y, return True. Else, return False.\n",
        "\n",
        "* * x < y          If x is less than y, return True. Else, return False.\n",
        "\n",
        "* x <= y        If x is less than or equal to y, return True. Else, return False.\n",
        "\n",
        "* x > y          If x is greater than y, return True. Else, return False.\n",
        "\n",
        "* x >= y        If x is greater or equal to y, return True. Else, return False.\n",
        "\n",
        "*Comparison operators with strings*.\n",
        "\n",
        "Comparison expressions with strings also return a Boolean result (True or False).\n",
        "\n",
        "* \"x\" == \"y\"  If the words are the same, return True. Else, return False.\n",
        "\n",
        "* \"x\" != \"y\"   If the words are not the same, return True. Else, return False.\n",
        "\n",
        "When used with strings, the following comparison expressions will alphabetize the strings.\n",
        "\n",
        "* \"x\" < \"y\"   \tIf string \"x\"  has a smaller Unicode value than string \"y\", return True.  Else, return False.\n",
        "\n",
        "* \"x\" <= \"y\" \tIf the Unicode value for string \"x\" is smaller than or equal to the Unicode value of string \"y\", return True. Else, return False.\n",
        "\n",
        "* \"x\" > \"y\"    \tIf string \"x\" has a larger Unicode value than string \"y\", return True. Else, return False.\n",
        "\n",
        "* \"x\" >= \"y\"  \tIf the Unicode value for string \"x\" is greater than or equal to the Unicode value of string \"y\", return True. Else, return False.\n",
        "\n",
        "\n",
        "*Unicode values for the alphabet*\n",
        "\n",
        "Image containing the unicode value of each letter of the alphabet\n",
        " The Unicode numbering for the alphabet starts at 65 for capital letter A and runs to 90 for capital letter Z. Then, the lowercase alphabet values start at 97 for lowercase a and run to 122 for lowercase z. Using these Unicode numbers, capital A's code is less than the codes of all other letters, which Python interprets as the beginning of the alphabet. Lowercase z's code is greater than the codes of all other letters, which Python interprets as the ultimate end of the English alphabet.\n",
        "\n",
        "\n",
        "*Logical operators*\n",
        "\n",
        "Logical operators are used to combine comparison expressions and also return Boolean results (True or False).\n",
        "\n",
        "* comparison1 and comparison2\n",
        "\n",
        "** Returns a True result if both comparison1 and comparison2 are true.\n",
        "\n",
        "** If they are not both true, return False.\n",
        "\n",
        "comparison1 or comparison2\n",
        "\n",
        "Returns a True result if either comparison1 and/or comparison2 are True.\n",
        "\n",
        "If neither comparison is true, return False.\n",
        "\n",
        "not comparison1\n",
        "\n",
        "Returns the inverse Boolean value of the comparison.\n",
        "\n",
        "Returns a True result if comparison1 is false.\n",
        "\n",
        "If comparison1 is true, then returns False."
      ],
      "metadata": {
        "id": "EPwM1Tgwm95g"
      }
    },
    {
      "cell_type": "code",
      "source": [
        "# The value of 10*4 (40) is greater than 14+23 (37), therefore this\n",
        "# comparison expression will return the Boolean value of True.\n",
        "\n",
        "\n",
        "print(10*4 > 14+23) # Should print True\n",
        "\n",
        "# The letter \"t\" has a Unicode value of 116 and the letter \"s\" has a\n",
        "# Unicode value of 115. Since 116 is not less than 115, the\n",
        "# comparison of \"tall\" < \"short\" (or 116 < 115) is False.\n",
        "\n",
        "print(\"tall\" < \"short\")  # Should print False"
      ],
      "metadata": {
        "colab": {
          "base_uri": "https://localhost:8080/"
        },
        "id": "Zs-BzHUCoIiz",
        "outputId": "e7dd8e17-2dc8-45ae-a3aa-6c5e69b88a07"
      },
      "execution_count": 46,
      "outputs": [
        {
          "output_type": "stream",
          "name": "stdout",
          "text": [
            "True\n",
            "False\n"
          ]
        }
      ]
    },
    {
      "cell_type": "code",
      "source": [
        "# This function accepts one variable as a parameter\n",
        "def translate_error_code(error_code):\n",
        "\n",
        "# The if-elif-else block assesses the value of the variable\n",
        "# passed to the function as a parameter. The if statement uses\n",
        "# the equality operator == to test the value of the variable.\n",
        "# This test returns a Boolean (True/False) result.\n",
        "    if error_code == \"401 Unauthorized\":\n",
        "# If the comparison above returns True, then the indented\n",
        "# line(s) inside the if-statement will run. In this case, the\n",
        "# action is to assign a string to the translation variable.\n",
        "# The remainder of the if-elif-else block will not run.\n",
        "# The Python interpreter will skip to the next line outside of\n",
        "# the if-elif-else block. In this case, the next line is the\n",
        "# return value statement.\n",
        "        translation = \"Server received an unauthenticated request\"\n",
        "\n",
        "# If the initial if-statement returns a False result, then the\n",
        "# first elif-statement will run a different test on the value\n",
        "# of the variable.\n",
        "    elif error_code == \"404 Not Found\":\n",
        "# If the first elif-statement returns a True result, then the\n",
        "# indented line(s) inside the first elif-statement will run.\n",
        "# After this line, the remainder of the if-elif-else block will\n",
        "# not run. The Python interpreter will skip to the next line\n",
        "# outside of the if-elif-else block.\n",
        "        translation = \"Requested web page not found on server\"\n",
        "\n",
        "# If both the initial if-statement and the first elif-statement\n",
        "# return a False result, then the second elif-statement will\n",
        "# run.\n",
        "    elif error_code == \"408 Request Timeout\":\n",
        "# If the second elif-statement returns a True result, then the\n",
        "# indented line(s) inside the second elif-statement will run.\n",
        "# After this line, the remainder of the if-elif-else block will\n",
        "# not run. The Python interpreter will skip to the next line\n",
        "# outside of the if-elif-else block.\n",
        "        translation = \"Server request to close unused connection\"\n",
        "\n",
        "# If the conditional tests above do not produce a True result\n",
        "# then the else-statement will run.\n",
        "    else:\n",
        "        translation = \"Unknown error code\"\n",
        "# The if-elif-else block ends.\n",
        "\n",
        "# The next line outside of the if-elif-else block will run\n",
        "# after exiting the block. In this case, the next line returns\n",
        "# the output from the if-elif-else block.\n",
        "    return translation\n",
        "\n",
        "# The print() function allows us to display the output of the\n",
        "# function. To call a function in a print statement, the syntax\n",
        "# is print(name_of_function(parameter))\n",
        "print(translate_error_code(\"404 Not Found\"))\n",
        "\n",
        "# Expected output:\n",
        "# Requested web page not found on server"
      ],
      "metadata": {
        "colab": {
          "base_uri": "https://localhost:8080/"
        },
        "id": "sE6ntv-yodZQ",
        "outputId": "6059ec0d-9eb3-420d-8f67-596fbb660fb3"
      },
      "execution_count": 47,
      "outputs": [
        {
          "output_type": "stream",
          "name": "stdout",
          "text": [
            "Requested web page not found on server\n"
          ]
        }
      ]
    },
    {
      "cell_type": "code",
      "source": [
        "# Sets value of the \"number\" variable\n",
        "number = 25\n",
        "\n",
        "# The \"number\" variable will first be compared to 5. Since it is\n",
        "# False that \"number\" is not less than or equal to 5, the expression indented\n",
        "# under this line will be ignored.\n",
        "if number <= 5:\n",
        "   print(\"The number is 5 or smaller.\")\n",
        "\n",
        "# Next, the \"number\" variable will be compared to 33. Since it is\n",
        "# False that \"number\" is equal to 33, the expression indented under\n",
        "# this line will be ignored.\n",
        "elif number == 33:\n",
        "   print(\"The number is 33.\")\n",
        "\n",
        "# Then, the \"number\" variable will be compared to 32 and 6. Since it\n",
        "# is True that 25 is less than 32 and greater than 6, the Python\n",
        "# interpreter will print \"The number is less than 32 and/or greater\n",
        "# than 6.\" Then, it will exit the if-elif-else statement and the remainder\n",
        "# of the if-elif-else statement will be ignored.\n",
        "elif number < 32 and number >= 6:\n",
        "   print(\"The number is less than 32 and greater than 6.\")\n",
        "\n",
        "else:\n",
        "   print(\"The number is \" + str(number))\n",
        "\n",
        "# Expected output is:\n",
        "# The number is less than 32 and greater than 6.\n"
      ],
      "metadata": {
        "colab": {
          "base_uri": "https://localhost:8080/"
        },
        "id": "8QkFAExeogTs",
        "outputId": "d782af60-a9ee-4478-d9c4-97559f0a489a"
      },
      "execution_count": 48,
      "outputs": [
        {
          "output_type": "stream",
          "name": "stdout",
          "text": [
            "The number is less than 32 and greater than 6.\n"
          ]
        }
      ]
    },
    {
      "cell_type": "code",
      "source": [
        "# This function rounds a variable number up to the nearest 10x value\n",
        "def round_up(number):\n",
        "  x = 10\n",
        "# The floor division operator will calculate the integer value of\n",
        "# \"number\" divided by x: 35 // 10 will return the integer 3.\n",
        "  whole_number = number // x\n",
        "# The modulo operator will calculate the remainder value of \"number\"\n",
        "# divided by x: 35 % 10 will return the remainder value 5.\n",
        "  remainder = number % x\n",
        "# If the remainder is greater than or equal to 5:\n",
        "  if remainder >= 5:\n",
        "# Return x multiplied by the (whole_number+1) to round up\n",
        "    return x*(whole_number+1)\n",
        "# Else, return x multiplied by the whole_number to round down\n",
        "  return x*whole_number\n",
        "\n",
        "# Calls the function with the parameter value of 35.\n",
        "print(round_up(35)) # Should print 40"
      ],
      "metadata": {
        "colab": {
          "base_uri": "https://localhost:8080/"
        },
        "id": "pDJv-hggojou",
        "outputId": "73f655ff-f132-4a07-c903-8b0d9624233c"
      },
      "execution_count": 49,
      "outputs": [
        {
          "output_type": "stream",
          "name": "stdout",
          "text": [
            "40\n"
          ]
        }
      ]
    },
    {
      "cell_type": "markdown",
      "source": [
        "**Exercises**"
      ],
      "metadata": {
        "id": "gQ4Xo3KtpC6F"
      }
    },
    {
      "cell_type": "markdown",
      "source": [
        "\n",
        "```\n",
        "number = 4\n",
        "if number * 4 < 15:\n",
        " print(number / 4)\n",
        "elif number < 5:\n",
        " print(number + 3)\n",
        "else:\n",
        " print(number * 2 % 5)\n",
        "\n",
        "\n",
        "```\n",
        "\n"
      ],
      "metadata": {
        "id": "PPxpVGWTqUjL"
      }
    },
    {
      "cell_type": "markdown",
      "source": [
        "*What would be the output?*\n",
        "\n",
        "1. 1\n",
        "2. 3\n",
        "3. 4\n",
        "4. 7"
      ],
      "metadata": {
        "id": "QK_aaki1pLbS"
      }
    },
    {
      "cell_type": "markdown",
      "source": [
        "*Consider the following scenario about using if-elif-else statements:*\n",
        "\n",
        "Students in a class receive their grades as Pass/Fail. Scores of 60 or more (out of 100) mean that the grade is \"Pass\". For lower scores, the grade is \"Fail\". In addition, scores above 95 (not included) are graded as \"Top Score\".\n",
        "\n",
        "Fill in the blanks in this function so that it returns the appropriate \"Pass\",  \"Fail\", or \"Top Score\" grade."
      ],
      "metadata": {
        "id": "6T0EdOoBptGD"
      }
    },
    {
      "cell_type": "code",
      "source": [
        "#Enter code here."
      ],
      "metadata": {
        "id": "VLGzvwAvp1R5"
      },
      "execution_count": null,
      "outputs": []
    },
    {
      "cell_type": "markdown",
      "source": [
        "What's the value of this Python expression?\n",
        "\n",
        "((10 >= 5*2) and (10 <= 5*2))\n",
        "\n",
        "\n"
      ],
      "metadata": {
        "id": "VRhgJeiOqFdz"
      }
    },
    {
      "cell_type": "markdown",
      "source": [
        "\n",
        "1. True\n",
        "2. False\n",
        "3. 10\n",
        "4. 5*2"
      ],
      "metadata": {
        "id": "JUhXdSF0qM0t"
      }
    },
    {
      "cell_type": "markdown",
      "source": [
        "Fill in the blanks to complete the function. The “make_positive” function takes in a number and converts that number to its positive equivalent.  Complete the function to accomplish the following tasks:\n",
        "\n",
        "* use an if statement to test if the number is negative;\n",
        "\n",
        "* use a calculation inside the if statement to change the negative number to be positive;\n",
        "\n",
        "* use a calculation in the else statement to return any positive “number” unchanged."
      ],
      "metadata": {
        "id": "V5HCwFpLqndl"
      }
    },
    {
      "cell_type": "code",
      "source": [
        "def make_positive(number):\n",
        "    if number:\n",
        "\n",
        "    else:\n",
        "\n",
        "    return\n",
        "\n",
        "\n",
        "print(make_positive(-4))   # Should print 4\n",
        "print(make_positive(0))    # Should print 0\n",
        "print(make_positive(-.25)) # Should print 0.25\n",
        "print(make_positive(5))    # Should print 5"
      ],
      "metadata": {
        "colab": {
          "base_uri": "https://localhost:8080/",
          "height": 110
        },
        "id": "isiJL2N9qGL1",
        "outputId": "d45ad00b-ebd3-48df-c549-4adb15673927"
      },
      "execution_count": 51,
      "outputs": [
        {
          "output_type": "error",
          "ename": "IndentationError",
          "evalue": "expected an indented block after 'if' statement on line 2 (<ipython-input-51-099e2c5cee91>, line 4)",
          "traceback": [
            "\u001b[0;36m  File \u001b[0;32m\"<ipython-input-51-099e2c5cee91>\"\u001b[0;36m, line \u001b[0;32m4\u001b[0m\n\u001b[0;31m    else:\u001b[0m\n\u001b[0m    ^\u001b[0m\n\u001b[0;31mIndentationError\u001b[0m\u001b[0;31m:\u001b[0m expected an indented block after 'if' statement on line 2\n"
          ]
        }
      ]
    },
    {
      "cell_type": "markdown",
      "source": [
        "Fill in the blanks to complete the function. The “complementary_color” function receives a primary color name in all lower case, then prints its complementary color. Currently, the function only supports the primary colors of red, yellow, and blue. It returns \"unknown\" for all other colors or if the word has any uppercase characters."
      ],
      "metadata": {
        "id": "ZRltAu0trfNT"
      }
    },
    {
      "cell_type": "code",
      "source": [
        "def complementary_color(color):\n",
        "    if :\n",
        "\n",
        "    elif :\n",
        "\n",
        "    elif :\n",
        "\n",
        "    else:\n",
        "\n",
        "    return\n",
        "\n",
        "print(complementary_color(\"blue\")) # Should print orange\n",
        "print(complementary_color(\"yellow\")) # Should print purple\n",
        "print(complementary_color(\"red\")) # Should print green\n",
        "print(complementary_color(\"black\")) # Should print unknown\n",
        "print(complementary_color(\"Blue\")) # Should print unknown\n",
        "print(complementary_color(\"\")) # Should print unknown"
      ],
      "metadata": {
        "colab": {
          "base_uri": "https://localhost:8080/",
          "height": 110
        },
        "id": "I2_TlmAIrh4e",
        "outputId": "a7842c5e-5f77-4f86-9955-a338753dfbd6"
      },
      "execution_count": 52,
      "outputs": [
        {
          "output_type": "error",
          "ename": "SyntaxError",
          "evalue": "invalid syntax (<ipython-input-52-4a241df3438e>, line 2)",
          "traceback": [
            "\u001b[0;36m  File \u001b[0;32m\"<ipython-input-52-4a241df3438e>\"\u001b[0;36m, line \u001b[0;32m2\u001b[0m\n\u001b[0;31m    if :\u001b[0m\n\u001b[0m       ^\u001b[0m\n\u001b[0;31mSyntaxError\u001b[0m\u001b[0;31m:\u001b[0m invalid syntax\n"
          ]
        }
      ]
    }
  ]
}