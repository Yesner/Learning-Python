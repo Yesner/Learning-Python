{
  "nbformat": 4,
  "nbformat_minor": 0,
  "metadata": {
    "colab": {
      "provenance": [],
      "authorship_tag": "ABX9TyMMNu8b/IrV7Ad3B6wEPXLd",
      "include_colab_link": true
    },
    "kernelspec": {
      "name": "python3",
      "display_name": "Python 3"
    },
    "language_info": {
      "name": "python"
    }
  },
  "cells": [
    {
      "cell_type": "markdown",
      "metadata": {
        "id": "view-in-github",
        "colab_type": "text"
      },
      "source": [
        "<a href=\"https://colab.research.google.com/github/Yesner/Learning-Python/blob/master/Learning_Python_Week_1.ipynb\" target=\"_parent\"><img src=\"https://colab.research.google.com/assets/colab-badge.svg\" alt=\"Open In Colab\"/></a>"
      ]
    },
    {
      "cell_type": "markdown",
      "source": [
        "## **Skill 1**\n",
        "### Use the print() function to output a string"
      ],
      "metadata": {
        "id": "8Q-E8vVNdKNc"
      }
    },
    {
      "cell_type": "code",
      "source": [
        "# Syntax for printing a string of text\n",
        "print(\"I love Python!\")\n",
        "\n",
        "\n",
        "# Syntax for printing numeric values\n",
        "print(360)\n",
        "print(32*45)\n",
        "\n",
        "\n",
        "# Syntax for printing the value of a variable\n",
        "value = 8*6\n",
        "print(value)\n"
      ],
      "metadata": {
        "colab": {
          "base_uri": "https://localhost:8080/"
        },
        "id": "dmAjJxGedVeF",
        "outputId": "da1e05e0-655d-4584-c9f0-cc1953340683"
      },
      "execution_count": 1,
      "outputs": [
        {
          "output_type": "stream",
          "name": "stdout",
          "text": [
            "I love Python!\n",
            "360\n",
            "1440\n",
            "48\n"
          ]
        }
      ]
    },
    {
      "cell_type": "markdown",
      "source": [
        "\n",
        "## **Skill 2**\n",
        "### Use arithmetic operators, with a focus on exponents\n",
        "\n"
      ],
      "metadata": {
        "id": "_gWskHX6dcwi"
      }
    },
    {
      "cell_type": "code",
      "source": [
        "# Multiplication, division, addition, and subtraction\n",
        "print(3*8/2+5-1)\n",
        "\n",
        "# Exponents\n",
        "print(4**6) # Syntax means 4 to the power of 6\n",
        "print(4**2) # To square a number\n",
        "print(4**3) # To cube a number\n",
        "print(4**0.5) # To find the square root of a number\n",
        "\n",
        "# To calculate how many different possible combinations can be\n",
        "# formed using a set of \"x\" characters with each character in \"x\"\n",
        "# having \"y\" number of possible values, you will need to use an\n",
        "# exponent for the calculation:\n",
        "x = 4\n",
        "y = 26\n",
        "print(y**x)\n"
      ],
      "metadata": {
        "colab": {
          "base_uri": "https://localhost:8080/"
        },
        "id": "jv6XW-OTdjQK",
        "outputId": "7fc135e2-f438-4a56-a1bc-55ceabacd97e"
      },
      "execution_count": 2,
      "outputs": [
        {
          "output_type": "stream",
          "name": "stdout",
          "text": [
            "16.0\n",
            "4096\n",
            "16\n",
            "64\n",
            "2.0\n",
            "456976\n"
          ]
        }
      ]
    },
    {
      "cell_type": "markdown",
      "source": [
        "## **Skill 3**\n",
        "### Use arithmetic operators, with a focus on exponents\n"
      ],
      "metadata": {
        "id": "pr63ZD3-dsKQ"
      }
    },
    {
      "cell_type": "code",
      "source": [
        "# Assignment of values to the variables:\n",
        "years = 10\n",
        "weeks_in_a_year = 52\n",
        "# This variable is assigned an arithmetic calculation:\n",
        "weeks_in_a_decade = years * weeks_in_a_year\n",
        "# Prints the calculation stored in the \"weeks_in_a_decade\" variable:\n",
        "print(weeks_in_a_decade)"
      ],
      "metadata": {
        "colab": {
          "base_uri": "https://localhost:8080/"
        },
        "id": "Z2ZtP0i2dxP8",
        "outputId": "5dc6042a-774a-4b99-e1d2-ea8ccb4b6bb8"
      },
      "execution_count": 3,
      "outputs": [
        {
          "output_type": "stream",
          "name": "stdout",
          "text": [
            "520\n"
          ]
        }
      ]
    }
  ]
}