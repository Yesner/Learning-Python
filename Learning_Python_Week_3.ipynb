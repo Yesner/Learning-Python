{
  "nbformat": 4,
  "nbformat_minor": 0,
  "metadata": {
    "colab": {
      "provenance": [],
      "authorship_tag": "ABX9TyPXZ0+ypgIhL+EqsY6Mq52T",
      "include_colab_link": true
    },
    "kernelspec": {
      "name": "python3",
      "display_name": "Python 3"
    },
    "language_info": {
      "name": "python"
    }
  },
  "cells": [
    {
      "cell_type": "markdown",
      "metadata": {
        "id": "view-in-github",
        "colab_type": "text"
      },
      "source": [
        "<a href=\"https://colab.research.google.com/github/Yesner/Learning-Python/blob/master/Learning_Python_Week_3.ipynb\" target=\"_parent\"><img src=\"https://colab.research.google.com/assets/colab-badge.svg\" alt=\"Open In Colab\"/></a>"
      ]
    },
    {
      "cell_type": "markdown",
      "source": [
        "# **Are you ready to continue learning Python?**"
      ],
      "metadata": {
        "id": "CnwCD4vq9H84"
      }
    },
    {
      "cell_type": "markdown",
      "source": [
        "# **Study guide: while loops**\n",
        "\n",
        "This study guide provides a quick-reference summary of what you learned in this segment and serves as a guide for the upcoming practice quiz.  \n",
        "\n",
        "In the while loops segment, you learned about the logical structure and syntax of while loops. You also learned about the importance of initializing variables and how to resolve infinite while loops with the break keyword.  \n",
        "\n",
        "\n",
        "while loops\n",
        "A while loop executes the body of the loop while a specified condition remains True. They are commonly used when there’s an unknown number of operations to be performed, and a condition needs to be checked at each iteration.\n"
      ],
      "metadata": {
        "id": "ACU-5MCM40iO"
      }
    },
    {
      "cell_type": "markdown",
      "source": [
        "1.   Example while loop"
      ],
      "metadata": {
        "id": "mjX1tMQ25Tt2"
      }
    },
    {
      "cell_type": "code",
      "source": [
        "multiplier = 1\n",
        "result = multiplier * 5\n",
        "while result <= 50:\n",
        "    print(result)\n",
        "    multiplier += 1\n",
        "    result = multiplier * 5\n",
        "print(\"Done\")\n",
        "\n",
        "\n",
        "# This while loop prints the multiples of 5 between 1 and 50. The\n",
        "# \"multiplier\" variable is initialized with the starting value of 1.\n",
        "# The \"result\" variable is initialized with the value of the\n",
        "# \"multiplier\" variable times 5.\n",
        "\n",
        "# The while loop specifies that the loop must iterate while it is True\n",
        "# that the \"result\" is less than or equal to 50. Within the while loop,\n",
        "# the code tells the Python interpreter to print the value of the\n",
        "# \"result\" variable. Then, the \"multiplier\" is incremented by 1 and the\n",
        "# \"result\" is assigned the new value of the \"multiplier\" times 5.\n",
        "\n",
        "# The end of the while loop is indicated by the indentation of the next\n",
        "# line of code moving one tab to the left. At this point, the Python\n",
        "# interpreter automatically loops back to the beginning of the while\n",
        "# loop to check the condition again with the new value of the \"result\"\n",
        "# variable. When the while loop condition becomes False (meaning\n",
        "# \"result\" is no longer less than or equal to 50), the interpreter exits\n",
        "# the loop and reads the next line of code outside of the loop. In this\n",
        "# case, that next line tells the interpreter to print the string \"Done\".\n",
        "\n",
        "# Click the \"Run\" button to check the result of this while loop."
      ],
      "metadata": {
        "colab": {
          "base_uri": "https://localhost:8080/"
        },
        "id": "KFHjUg4h5Qko",
        "outputId": "f9d554cf-914e-4c7a-adba-3e5dc77a0da4"
      },
      "execution_count": 1,
      "outputs": [
        {
          "output_type": "stream",
          "name": "stdout",
          "text": [
            "5\n",
            "10\n",
            "15\n",
            "20\n",
            "25\n",
            "30\n",
            "35\n",
            "40\n",
            "45\n",
            "50\n",
            "Done\n"
          ]
        }
      ]
    },
    {
      "cell_type": "markdown",
      "source": [
        "*Common errors in Loops*\n",
        "\n",
        "If you get an error message on a loop or it appears to hang, your debugging checklist should include the following checks:\n",
        "\n",
        "Failure to initialize variables. Make sure all the variables used in the loop’s condition are initialized before the loop.\n",
        "\n",
        "Unintended infinite loops. Make sure that the body of the loop modifies the variables used in the condition, so that the loop will eventually end for all possible values of the variables. You can often prevent an infinite loop by using the break keyword or by adding end criteria to the condition part of the while loop.\n",
        "\n",
        "*Terms*\n",
        "while loop - Tells the computer to execute a set of instructions while a specified condition is True. In other words, while loops keep executing the same group of instructions until the condition becomes False.\n",
        "\n",
        "infinite loop - Missing a method for exiting the loop, causing the loop to run forever.\n",
        "\n",
        "break - A break statement in Python provides a way to exit out of a loop before the loop's condition is false. Once a break statement is encountered, the program's control flow jumps out of the loop and continues executing the code after the loop.\n",
        "\n",
        "pass - A pass statement in Python is a placeholder statement which is used when the syntax requires a statement, but you don't want to execute any code or command.\n",
        "\n",
        "*Math concepts on the practice quiz*\n",
        "\n",
        "The coding problems on the upcoming practice quiz will involve a few math concepts. Don’t worry if you are rusty on math. You will have plenty of support with these concepts on the quiz. The following is a quick overview of the math terms you will encounter on the quiz:\n",
        "\n",
        "prime numbers - Integers that have only two factors, which are the number itself multiplied by 1.  The first ten prime numbers are 2, 3, 5, 7, 11, 13, 17, 19, 23 and 29. Each of these prime numbers can be evenly divided only by itself and 1.\n",
        "\n",
        "prime factors - Prime numbers that are factors of an integer. For example, the prime numbers 2 and 5 are the prime factors of the number 10 (2x5=10). The prime factors of an integer will not produce a remainder when used to divide that integer.\n",
        "\n",
        "divisor - A number (denominator) that is used to divide another number (numerator). For example, if the number 10 is divided by 5, the number 5 is the divisor.\n",
        "\n",
        "sum of all divisors of a number - The result of adding all of the divisors of a number together.  \n",
        "\n",
        "multiplication table - An integer multiplied by a series of numbers and their results formatted as a table or a list. For example:\n",
        "\n",
        "                 4x1=4\n",
        "\n",
        "                 4x2=8\n",
        "\n",
        "                 4x3=12\n",
        "\n",
        "                 4x4=16\n",
        "\n",
        "                 4x5=20\n",
        "\n",
        "Coding skills\n",
        "The following are sample skill areas to study for while loops.\n",
        "\n",
        "Skill group 1\n",
        "\n",
        "1. Initialize a variable\n",
        "\n",
        "2. Use a while loop that runs while a specific condition is true\n",
        "\n",
        "3. Ensure the while loop will not be an infinite loop\n",
        "\n",
        "4. Increment a value within a while loop"
      ],
      "metadata": {
        "id": "P7sOfCO65eiK"
      }
    },
    {
      "cell_type": "code",
      "source": [
        "# This function counts the number of integer factors for a\n",
        "# \"given_number\" variable, passed through the function’s parameters.\n",
        "# The \"count\" return value includes the \"given_number\" itself as a\n",
        "# factor (n*1).\n",
        "def count_factors(given_number):\n",
        "\n",
        "    # To include the \"given_number\" variable as a \"factor\", initialize\n",
        "    # the \"factor\" variable with the value 1 (if the \"factor\" variable\n",
        "    # were to start at 2, the \"given_number\" itself would be excluded).\n",
        "    factor = 1\n",
        "    count = 1\n",
        "\n",
        "    # This \"if\" block will run if the \"given_number\" equals 0.\n",
        "    if given_number == 0:\n",
        "        # If True, the return value will be 0 factors.\n",
        "        return 0\n",
        "\n",
        "    # The while loop will run while the \"factor\" is still less than\n",
        "    # the \"given_number\" variable.\n",
        "    while factor < given_number:\n",
        "        # This \"if\" block checks if the \"given_number\" can be divided by\n",
        "        # the \"factor\" variable without leaving a remainder. The modulo\n",
        "        # operator % is used to test for a remainder.\n",
        "        if given_number % factor == 0:\n",
        "            # If True, then the \"factor\" variable is added to the count of\n",
        "            # the \"given_number\"’s integer factors.\n",
        "            count += 1\n",
        "        # When exiting the if block, increment the \"factor\" variable by 1\n",
        "        # to divide the \"given_number\" variable by a new \"factor\" value\n",
        "        # inside the while loop.\n",
        "        factor += 1\n",
        "\n",
        "    # When the interpreter exits either the while loop or the top if\n",
        "    # block, it will return the value of the \"count\" variable.\n",
        "    return count\n",
        "\n",
        "\n",
        "print(count_factors(0)) # Count value should be 0\n",
        "print(count_factors(3)) # Should count 2 factors (1x3)\n",
        "print(count_factors(10)) # Should count 4 factors (1x10, 2x5)\n",
        "print(count_factors(24)) # Should count 8 factors (1x24, 2x12, 3x8, and 4x6)."
      ],
      "metadata": {
        "colab": {
          "base_uri": "https://localhost:8080/"
        },
        "id": "tEPDECo76a0-",
        "outputId": "421cb0cc-3f11-446f-af75-09863c23d634"
      },
      "execution_count": 2,
      "outputs": [
        {
          "output_type": "stream",
          "name": "stdout",
          "text": [
            "0\n",
            "2\n",
            "4\n",
            "8\n"
          ]
        }
      ]
    },
    {
      "cell_type": "markdown",
      "source": [
        "Skill group 2\n",
        "1. Initialize variables to assign data types before they are used in a while loop\n",
        "\n",
        "2. Use the break keyword as an exit point for a while loop"
      ],
      "metadata": {
        "id": "J2ppmmCP6k5O"
      }
    },
    {
      "cell_type": "code",
      "source": [
        "# This function outputs an addition table. It is written to end after\n",
        "# printing 5 lines of the addition table, but it will break out of the\n",
        "# loop if the \"my_sum\" variable exceeds 20.\n",
        "\n",
        "# The function accepts a \"given_number\" variable through its\n",
        "# parameters.\n",
        "def addition_table(given_number):\n",
        "\n",
        "\t# The \"iterated_number\" and \"my_sum\" variables are initialized with\n",
        "\t# the value of 1. Although the \"my_sum\" variable does not need any\n",
        "\t# specific initial value, it still must be assigned a data type\n",
        "\t# before being used in the while loop. By initializing \"my_sum\"\n",
        "\t# with any integer, the data type will be set to int.\n",
        "\titerated_number = 1\n",
        "\tmy_sum = 1\n",
        "\n",
        "\t# The while loop will run while it is True that the\n",
        "\t# \"iterated_number\" is less than or equal to 5.\n",
        "\twhile iterated_number <= 5:\n",
        "\n",
        "\t\t# The \"my_sum\" variable is assigned the value of the\n",
        "\t\t# \"given_number\" plus the \"iterated_number\" variables.\n",
        "\t\tmy_sum = given_number + iterated_number\n",
        "\n",
        "\t\t# Test to see if the \"my_sum\" variable is greater than 20.\n",
        "\t\tif my_sum > 20:\n",
        "\t\t\t# If True, then use the break keyword to exit the loop.\n",
        "\t\t\tbreak\n",
        "\n",
        "\t\t# If False, the Python interpreter will move to the next line\n",
        "\t\t# in the while loop after the if-statement has ended.\n",
        "\n",
        "\t\t# The print function will output the \"given_number\" plus\n",
        "\t\t# the \"iterated_number\" equals \"my_sum\".\n",
        "\t\tprint(str(given_number), \"+\", str(iterated_number), \"=\", str(my_sum))\n",
        "\n",
        "\t\t# Increment the \"iterated_number\" before the while loop starts\n",
        "\t\t# over again to print a new \"my_sum\" value.\n",
        "\t\titerated_number += 1\n",
        "\n",
        "\n",
        "addition_table(5)\n",
        "addition_table(17)\n",
        "addition_table(30)\n",
        "\n",
        "# Expected output:\n",
        "# 5 + 1 = 6\n",
        "# 5 + 2 = 7\n",
        "# 5 + 3 = 8\n",
        "# 5 + 4 = 9\n",
        "# 5 + 5 = 10\n",
        "# 17 + 1 = 18\n",
        "# 17 + 2 = 19\n",
        "# 17 + 3 = 20\n",
        "# None"
      ],
      "metadata": {
        "colab": {
          "base_uri": "https://localhost:8080/"
        },
        "id": "WMjy2Pj96pyt",
        "outputId": "d17bd09f-a988-49d5-f64e-6ffccd3c743f"
      },
      "execution_count": 3,
      "outputs": [
        {
          "output_type": "stream",
          "name": "stdout",
          "text": [
            "5 + 1 = 6\n",
            "5 + 2 = 7\n",
            "5 + 3 = 8\n",
            "5 + 4 = 9\n",
            "5 + 5 = 10\n",
            "17 + 1 = 18\n",
            "17 + 2 = 19\n",
            "17 + 3 = 20\n"
          ]
        }
      ]
    },
    {
      "cell_type": "markdown",
      "source": [
        "# **Study Guide: for Loops**"
      ],
      "metadata": {
        "id": "PLXHvPj36yVm"
      }
    },
    {
      "cell_type": "markdown",
      "source": [
        "This study guide provides a summary of what you learned in this segment and serves as a guide for the upcoming practice quiz.  \n",
        "\n",
        "In the for Loops segment, you learned about the logical structure and syntax of for loops. You took a closer look at the range() function. You learned about nested for loops and complex nested for loops with if statements. You also learned how to fix common errors in for loops.\n",
        "\n",
        "for Loops vs. while Loops\n",
        "for loops and while loops share several characteristics. Both loops can be used with a variety of data types, both can be nested, and both can be used with the keywords break and continue. However, there are important differences between the two types of loops:\n",
        "\n",
        "while loops are used when a segment of code needs to execute repeatedly while a condition is true\n",
        "\n",
        "for loops iterate over a sequence of elements, executing the body of the loop for each element in the sequence\n",
        "\n",
        "An important distinction is that for loops are suited for objects that have iterable structures. So lists, strings, ranges of integers. Individual integers are not iterable, but can be looped over by the use of the range() function, which is covered below. While loops do not iterate per se, rather they watch a truth condition"
      ],
      "metadata": {
        "id": "13EnwUhR7aHs"
      }
    },
    {
      "cell_type": "markdown",
      "source": [
        "Common for Loop Structures for Loop with range()\n",
        "\n",
        "The in keyword with the range() function generates a sequence of integer numbers, which can be used with a for loop to configure the iterations of the code. The range of numbers [0, 1, 2] correlates to ordinal index positions (1st, 2nd, 3rd), rather than the cardinal (quantity) values of the numbers 0, 1, and 2. For example, range(5) means the five index positions in the range [0, 1, 2, 3, 4].\n",
        "\n",
        "The range() function can take up to three parameters. The roles of the three possible range(x,y,z) parameters are:\n",
        "\n",
        "x = Start - Starting index position of the range\n",
        "\n",
        "Default index position is 0.\n",
        "\n",
        "The starting index position is included in the range.\n",
        "\n",
        "Example syntax: range(2, y, z) or range(x+3, y, z)\n",
        "\n",
        "y = Stop - Ending index position of range\n",
        "\n",
        "No default index position. Must include the ending index position in the range() parameters.\n",
        "\n",
        "Example syntax: range(y)\n",
        "\n",
        "The value of the ending index position is excluded from the range.\n",
        "\n",
        "To include the ending index number, use the expression: y+1 (index + 1)\n",
        "\n",
        "Example syntax: range(x, y+1, z)\n",
        "\n",
        "Alternatively, if y = 10, you can write: range(x, 11, z)\n",
        "\n",
        "z = Step - Incremental value"
      ],
      "metadata": {
        "id": "gp7wJSVd7iYB"
      }
    },
    {
      "cell_type": "markdown",
      "source": [
        "Example of a for loop with the in keyword and the range() function:\n"
      ],
      "metadata": {
        "id": "xDdsGGNh7tMV"
      }
    },
    {
      "cell_type": "code",
      "source": [
        "# This loop iterates on the value of the \"number\" variable in a range\n",
        "# of 1 to 6+1 (the upper range limit of 6 is excluded, so +1 has\n",
        "# been added to it to include 6 in the range). The incremental value\n",
        "# for the loop is 2 (number+2). The print() function will output the\n",
        "# resulting value of \"number\" multiplied by 3.\n",
        "\n",
        "for number in range(1, 6+1, 2):\n",
        "    print(number * 3)\n",
        "\n",
        "# The loop should print 3, 9, 15"
      ],
      "metadata": {
        "colab": {
          "base_uri": "https://localhost:8080/"
        },
        "id": "cZ1k7oKQ7g1w",
        "outputId": "a16e4c63-e6b6-43f7-dab1-97c3c768676b"
      },
      "execution_count": 4,
      "outputs": [
        {
          "output_type": "stream",
          "name": "stdout",
          "text": [
            "3\n",
            "9\n",
            "15\n"
          ]
        }
      ]
    },
    {
      "cell_type": "markdown",
      "source": [
        "Common pitfalls when using the range() function:\n",
        "Forgetting that the upper limit of a range() isn’t included in the range.\n",
        "\n",
        "Iterating over non-sequences. For example, strings are iterable letter by letter, but not word by word.\n",
        "\n",
        "Example of a range() function where the value of the upper limit of the range is excluded:"
      ],
      "metadata": {
        "id": "aoN5EThW71Ya"
      }
    },
    {
      "cell_type": "code",
      "source": [
        "# This loop iterates on the value of the \"number\" variable in a range\n",
        "# of 2 to 7 (the upper range limit of 8 is excluded). The print()\n",
        "# function will output the resulting value of \"number\" squared.\n",
        "\n",
        "for number in range(2,8):\n",
        "    print(number**2)\n",
        "\n",
        "# The loop should print 4, 9, 16, 25, 36, 49"
      ],
      "metadata": {
        "colab": {
          "base_uri": "https://localhost:8080/"
        },
        "id": "reAVxW7C741V",
        "outputId": "6dd92055-5992-4155-9736-0ab5145a7a1f"
      },
      "execution_count": 5,
      "outputs": [
        {
          "output_type": "stream",
          "name": "stdout",
          "text": [
            "4\n",
            "9\n",
            "16\n",
            "25\n",
            "36\n",
            "49\n"
          ]
        }
      ]
    },
    {
      "cell_type": "markdown",
      "source": [
        "Nested for Loops\n",
        "The syntax of nested for loops:"
      ],
      "metadata": {
        "id": "xUgBYGcm7-D4"
      }
    },
    {
      "cell_type": "code",
      "source": [
        "# This code demonstrates the outer and inner loop iterations of a pair\n",
        "# of nested for loops. Click \"Run\" to see the results. The outer loop\n",
        "# will run twice for the range pointer positions [0, 1] in range(2).\n",
        "# The inner loop will run 4 times for the range pointer positions\n",
        "# [0, 1, 2, 3] in range(3+1) or range(4) each time the outer loop runs.\n",
        "# So, the inner loop will execute 8 times in total.\n",
        "\n",
        "for x in range(2):\n",
        "    print(\"This is the outer loop iteration number \" + str(x))\n",
        "    for y in range(3+1):\n",
        "        print(\"Inner loop iteration number \" + str(y))\n",
        "    print(\"Exit inner loop\")"
      ],
      "metadata": {
        "colab": {
          "base_uri": "https://localhost:8080/"
        },
        "id": "xOUr1J037_oD",
        "outputId": "0b53ca9b-2559-4e31-f620-4e0414c69278"
      },
      "execution_count": 6,
      "outputs": [
        {
          "output_type": "stream",
          "name": "stdout",
          "text": [
            "This is the outer loop iteration number 0\n",
            "Inner loop iteration number 0\n",
            "Inner loop iteration number 1\n",
            "Inner loop iteration number 2\n",
            "Inner loop iteration number 3\n",
            "Exit inner loop\n",
            "This is the outer loop iteration number 1\n",
            "Inner loop iteration number 0\n",
            "Inner loop iteration number 1\n",
            "Inner loop iteration number 2\n",
            "Inner loop iteration number 3\n",
            "Exit inner loop\n"
          ]
        }
      ]
    },
    {
      "cell_type": "markdown",
      "source": [
        "for loop with nested if Statement\n",
        "\n",
        "The syntax of a for Loop with nested if Statement:"
      ],
      "metadata": {
        "id": "3OVyyhQ08Gbx"
      }
    },
    {
      "cell_type": "code",
      "source": [
        "# This for loop iterates through the numbers 0 to 6. The if statement\n",
        "# uses the modulo operator to test if the \"x\" variable is divisible by\n",
        "# 2. If True, the if statement will print the value of \"x\" and exit\n",
        "# back into the for loop for the next iteration of \"x\". Since no\n",
        "# incremental value is specified in the range() parameters, the default\n",
        "# increment is +1.\n",
        "\n",
        "for x in range(7):\n",
        "    if x % 2 == 0:\n",
        "        print(x)\n",
        "\n",
        "# The loop should print 0, 2, 4, 6\n",
        "\n",
        "# As a list comprehension:\n",
        "even_numbers = [x for x in range(7) if x % 2 == 0]\n",
        "print(even_numbers)"
      ],
      "metadata": {
        "colab": {
          "base_uri": "https://localhost:8080/"
        },
        "id": "PoCDnhOR8Hq_",
        "outputId": "b4864b76-8dbe-4999-ec4b-e044078d1232"
      },
      "execution_count": 7,
      "outputs": [
        {
          "output_type": "stream",
          "name": "stdout",
          "text": [
            "0\n",
            "2\n",
            "4\n",
            "6\n",
            "[0, 2, 4, 6]\n"
          ]
        }
      ]
    },
    {
      "cell_type": "markdown",
      "source": [
        "List comprehensions\n",
        "\n",
        "It is important to know that loops can be avoided sometimes; as you progress, you will develop a sense of when and how to do so. The concepts for loops are similar between other languages, but in Python, list comprehensions provide a concise way to create lists based on existing lists or sequences.\n",
        "\n",
        "Here is a concrete example for better understanding. Let's say you have a sequence of numbers and you want to create a new list containing only the even numbers from the sequence.\n",
        "\n",
        "With a traditional for Loop, you might write:"
      ],
      "metadata": {
        "id": "kAm-SkUk8O0S"
      }
    },
    {
      "cell_type": "code",
      "source": [
        "sequence = range(10)\n",
        "new_list = []\n",
        "for x in sequence:\n",
        "    if x % 2 == 0:\n",
        "        new_list.append(x)"
      ],
      "metadata": {
        "id": "hl83zeND8Q-Q"
      },
      "execution_count": 8,
      "outputs": []
    },
    {
      "cell_type": "code",
      "source": [
        "new_list"
      ],
      "metadata": {
        "colab": {
          "base_uri": "https://localhost:8080/"
        },
        "id": "TzkSuCRB8XdS",
        "outputId": "b0f4db10-bafa-4448-8b13-6d2c36f9efd5"
      },
      "execution_count": 9,
      "outputs": [
        {
          "output_type": "execute_result",
          "data": {
            "text/plain": [
              "[0, 2, 4, 6, 8]"
            ]
          },
          "metadata": {},
          "execution_count": 9
        }
      ]
    },
    {
      "cell_type": "markdown",
      "source": [
        "With a list comprehension, you could achieve the same result in a more concise way:\n",
        "\n"
      ],
      "metadata": {
        "id": "FUTNNaOq8Zpt"
      }
    },
    {
      "cell_type": "code",
      "source": [
        "sequence = range(10)\n",
        "new_list2 = [x for x in sequence if x % 2 == 0]"
      ],
      "metadata": {
        "id": "lEdMHtU88b1d"
      },
      "execution_count": 11,
      "outputs": []
    },
    {
      "cell_type": "code",
      "source": [
        "new_list2"
      ],
      "metadata": {
        "colab": {
          "base_uri": "https://localhost:8080/"
        },
        "id": "bonJGTkk8fda",
        "outputId": "6633e531-a559-4171-b537-5926eb9949b3"
      },
      "execution_count": 12,
      "outputs": [
        {
          "output_type": "execute_result",
          "data": {
            "text/plain": [
              "[0, 2, 4, 6, 8]"
            ]
          },
          "metadata": {},
          "execution_count": 12
        }
      ]
    },
    {
      "cell_type": "markdown",
      "source": [
        "My portfolio: https://wwww.yesnersalgado.tech\n",
        "\n",
        "\n",
        "LinkedIn: https://www.linkedin.com/in/yesner-salgado/"
      ],
      "metadata": {
        "id": "m8r4WsAC8jdZ"
      }
    }
  ]
}